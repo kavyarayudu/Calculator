{
  "nbformat": 4,
  "nbformat_minor": 0,
  "metadata": {
    "colab": {
      "name": "Calculator.ipynb",
      "provenance": [],
      "authorship_tag": "ABX9TyMji3kx3MTNXfh3rXQG6/DT",
      "include_colab_link": true
    },
    "kernelspec": {
      "name": "python3",
      "display_name": "Python 3"
    },
    "language_info": {
      "name": "python"
    }
  },
  "cells": [
    {
      "cell_type": "markdown",
      "metadata": {
        "id": "view-in-github",
        "colab_type": "text"
      },
      "source": [
        "<a href=\"https://colab.research.google.com/github/kavyarayudu/Calculator/blob/main/Calculator.ipynb\" target=\"_parent\"><img src=\"https://colab.research.google.com/assets/colab-badge.svg\" alt=\"Open In Colab\"/></a>"
      ]
    },
    {
      "cell_type": "code",
      "execution_count": 1,
      "metadata": {
        "colab": {
          "base_uri": "https://localhost:8080/"
        },
        "id": "v4UnWzD2tnsl",
        "outputId": "8ed63825-2424-41fd-aa80-ab0f0ec41778"
      },
      "outputs": [
        {
          "output_type": "stream",
          "name": "stdout",
          "text": [
            "Select operation.\n",
            "1.Add\n",
            "2.Subtract\n",
            "3.Multiply\n",
            "4.Divide\n",
            "Enter choice(1/2/3/4):3\n",
            "Enter first number: 7687\n",
            "Enter second number: 5767\n",
            "7687 * 5767 = 44330929\n"
          ]
        }
      ],
      "source": [
        "# Program make a simple calculator that can add, subtract, multiply and divide using functions\n",
        "\n",
        "# define functions\n",
        "def add(x, y):\n",
        "   \"\"\"This function adds two numbers\"\"\"\n",
        "\n",
        "   return x + y\n",
        "\n",
        "def subtract(x, y):\n",
        "   \"\"\"This function subtracts two numbers\"\"\"\n",
        "\n",
        "   return x - y\n",
        "\n",
        "def multiply(x, y):\n",
        "   \"\"\"This function multiplies two numbers\"\"\"\n",
        "\n",
        "   return x * y\n",
        "\n",
        "def divide(x, y):\n",
        "   \"\"\"This function divides two numbers\"\"\"\n",
        "\n",
        "   return x / y\n",
        "\n",
        "# take input from the user\n",
        "print(\"Select operation.\")\n",
        "print(\"1.Add\")\n",
        "print(\"2.Subtract\")\n",
        "print(\"3.Multiply\")\n",
        "print(\"4.Divide\")\n",
        "\n",
        "choice = input(\"Enter choice(1/2/3/4):\")\n",
        "\n",
        "num1 = int(input(\"Enter first number: \"))\n",
        "num2 = int(input(\"Enter second number: \"))\n",
        "\n",
        "if choice == '1':\n",
        "   print(num1,\"+\",num2,\"=\", add(num1,num2))\n",
        "\n",
        "elif choice == '2':\n",
        "   print(num1,\"-\",num2,\"=\", subtract(num1,num2))\n",
        "\n",
        "elif choice == '3':\n",
        "   print(num1,\"*\",num2,\"=\", multiply(num1,num2))\n",
        "\n",
        "elif choice == '4':\n",
        "   print(num1,\"/\",num2,\"=\", divide(num1,num2))\n",
        "else:\n",
        "   print(\"Invalid input\")"
      ]
    }
  ]
}